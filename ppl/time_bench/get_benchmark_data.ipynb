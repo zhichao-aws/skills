{
 "cells": [
  {
   "cell_type": "code",
   "execution_count": 1,
   "id": "c8fff550",
   "metadata": {},
   "outputs": [
    {
     "name": "stdout",
     "output_type": "stream",
     "text": [
      "Loaded 11 examples from gallery.json\n",
      "Loaded 9 examples from otel-demo.json\n",
      "Loaded 34 examples from instruction_benchmark_dev_set.json\n"
     ]
    }
   ],
   "source": [
    "import json\n",
    "\n",
    "import random\n",
    "from datetime import datetime, timedelta\n",
    "\n",
    "def random_timestamp(start_date=datetime(2000, 1, 1, 0, 0, 0), end_date=datetime(2030, 12, 31, 23, 59, 59)):\n",
    "    \"\"\"Generate a random timestamp string between two dates\"\"\"\n",
    "    # Convert to timestamps (seconds since epoch)\n",
    "    start_timestamp = datetime.timestamp(start_date)\n",
    "    end_timestamp = datetime.timestamp(end_date)\n",
    "    \n",
    "    # Generate a random timestamp within the range\n",
    "    random_timestamp = random.uniform(start_timestamp, end_timestamp)\n",
    "    \n",
    "    # Convert back to datetime and format as string\n",
    "    random_date = datetime.fromtimestamp(random_timestamp)\n",
    "    return random_date.strftime(\"%Y-%m-%d %H:%M:%S\")\n",
    "\n",
    "\n",
    "source_files = [\"gallery.json\", \"otel-demo.json\", \"instruction_benchmark_dev_set.json\"]\n",
    "examples = []\n",
    "for file in source_files:\n",
    "    content = json.load(open(file, \"r\"))\n",
    "    print(f\"Loaded {len(content)} examples from {file}\")\n",
    "    for sample in content:\n",
    "        examples.append({\n",
    "            \"question\": sample[\"question\"],\n",
    "            \"query\": sample[\"query\"],\n",
    "            \"now\": random_timestamp(),\n",
    "        })\n",
    "        \n",
    "        \n",
    "do_write = False\n",
    "if do_write:\n",
    "    with open(\"examples.json\",\"w\") as f:\n",
    "        json.dump(examples, f, indent=4)"
   ]
  },
  {
   "cell_type": "code",
   "execution_count": 2,
   "id": "9d6315a3",
   "metadata": {},
   "outputs": [],
   "source": [
    "with open(\"examples.json\") as f:\n",
    "    examples = json.load(f)"
   ]
  },
  {
   "cell_type": "code",
   "execution_count": 3,
   "id": "54b00ad9",
   "metadata": {},
   "outputs": [
    {
     "data": {
      "text/plain": [
       "[{'question': 'What is the average response time for each API endpoint in our application over the last hour?',\n",
       "  'query': 'source=api_logs | where timestamp > now() - 1h | stats avg(response_time) as avg_response_time by endpoint',\n",
       "  'now': '2015-08-31 09:47:56'},\n",
       " {'question': 'What is the CPU, memory, and disk usage across our three main server clusters over the last 24 hours?',\n",
       "  'query': 'source=server_metrics | where timestamp > now() - 24h | stats avg(cpu_usage) as avg_cpu, avg(memory_usage) as avg_memory, avg(disk_usage) as avg_disk by cluster',\n",
       "  'now': '2012-05-07 05:32:24'},\n",
       " {'question': 'What is the distribution of different types of system errors across months?',\n",
       "  'query': 'source = system_logs | stats count() by span(timestamp, 1M) as month, error_type',\n",
       "  'now': '2024-07-29 20:14:04'}]"
      ]
     },
     "execution_count": 3,
     "metadata": {},
     "output_type": "execute_result"
    }
   ],
   "source": [
    "examples[:3]"
   ]
  },
  {
   "cell_type": "code",
   "execution_count": 4,
   "id": "d706960e",
   "metadata": {},
   "outputs": [],
   "source": [
    "import os\n",
    "import re\n",
    "import boto3\n",
    "\n",
    "from tqdm import tqdm\n",
    "\n",
    "def setup_bedrock():\n",
    "    session = boto3.Session(\n",
    "        region_name=os.environ.get(\"AWS_REGION\", \"us-east-1\"),\n",
    "    )\n",
    "    return session.client(\"bedrock-runtime\")\n",
    "\n",
    "bedrock_client = setup_bedrock()\n",
    "\n",
    "def get_prompt(q, cur_time):\n",
    "    return f\"\"\"\n",
    "    Here is a user question. We'll transform the user question to a SQL query. Now you need to parse the time filter for sql query.\n",
    "    You need to give the extracted query and time filter range. Here are several rules:\n",
    "    1. Try infer the time filter range from user input. The time range should be calculated based on current time.\n",
    "    2. important: always return null when user question doesn't specify a time filter range. Otherwise we got wrong query.\n",
    "    3. Extracted query should just contain user intention and without time range information.\n",
    "    4. The output format is XML. Use tag <query> <time_filter> <start> and <end>. Always print these info in order.\n",
    "    5. Only give me the XML tags and content, no other words.\n",
    "    6. Distinguish the time-related keyword (daily, per month, monthly, per week etc) is for aggregation or for time filter. They are different.\n",
    "\n",
    "    <User input>\n",
    "    <user question>{q}</user question>\n",
    "    <current timestamp>{cur_time}</current timestamp>\n",
    "    </User input>\n",
    "\n",
    "    Here are some examples:\n",
    "\n",
    "    <example input>\n",
    "    <user question>show me the city has max revenue in last year</user question>\n",
    "    <current timestamp>2025-05-01 21:12:44</current timestamp>\n",
    "    </example input>\n",
    "    <example output>\n",
    "    <query>show me the city has max revenue</user question>\n",
    "    <time_filter>last year</time_filter>\n",
    "    <start>2024-01-01 00:00:00</start>\n",
    "    <end>2025-01-01 00:00:00</end>\n",
    "    </example output>\n",
    "\n",
    "\n",
    "    <example input>\n",
    "    <user question>total order number in last week</user question>\n",
    "    <current timestamp>2025-01-04 06:01:54</current timestamp>\n",
    "    </example input>\n",
    "    <example output>\n",
    "    <query>show me the total order number</user question>\n",
    "    <time_filter>last week</time_filter>\n",
    "    <start>2024-12-28 00:00:00</start>\n",
    "    <end>2025-01-04 00:00:00</end>\n",
    "    </example output>\n",
    "\n",
    "\n",
    "    <example input>\n",
    "    <user question>show me the monthly total revenue</user question>\n",
    "    <current timestamp>2025-11-21 02:21:27</current timestamp>\n",
    "    </example input>\n",
    "    <example output>\n",
    "    <query>show me the monthly total revenue</user question>\n",
    "    <time_filter>no explicit time range info</time_filter>\n",
    "    <start>null</start>\n",
    "    <end>null</end>\n",
    "    </example output>\n",
    "    \"\"\"\n",
    "\n",
    "def parse_tagged_string(text):\n",
    "    \"\"\"\n",
    "    解析格式为<tag>value</tag>的字符串为字典\n",
    "    \"\"\"\n",
    "    # 正则表达式匹配<tag>value</tag>模式\n",
    "    pattern = r'<(\\w+)>(.*?)</\\1>'\n",
    "    \n",
    "    # 查找所有匹配项\n",
    "    matches = re.findall(pattern, text, re.DOTALL)\n",
    "    \n",
    "    # 转换为字典\n",
    "    result = {}\n",
    "    for tag, value in matches:\n",
    "        # 处理\"null\"值\n",
    "        if value.strip() == \"null\":\n",
    "            result[tag] = None\n",
    "        else:\n",
    "            result[tag] = value.strip()\n",
    "    \n",
    "    return result\n",
    "\n",
    "def invoke(q, cur_time):\n",
    "    response = bedrock_client.invoke_model(\n",
    "        modelId=\"anthropic.claude-3-haiku-20240307-v1:0\",\n",
    "        body=json.dumps(\n",
    "            {\n",
    "                \"temperature\": 0,\n",
    "                \"anthropic_version\": \"bedrock-2023-05-31\",\n",
    "                \"max_tokens\": 8192,\n",
    "                \"messages\": [\n",
    "                    {\n",
    "                        \"role\": \"user\",\n",
    "                        \"content\": [{\"type\": \"text\", \"text\": get_prompt(q, cur_time)}],\n",
    "                    }\n",
    "                ],\n",
    "            }\n",
    "        ),\n",
    "    )\n",
    "    \n",
    "    result = json.loads(response.get(\"body\").read())\n",
    "    generated_text = result[\"content\"][0][\"text\"]\n",
    "    return parse_tagged_string(generated_text)"
   ]
  },
  {
   "cell_type": "code",
   "execution_count": null,
   "id": "7dc03bd0",
   "metadata": {},
   "outputs": [],
   "source": [
    "predicts = []\n",
    "for example in tqdm(examples):\n",
    "    predicts.append(invoke(example[\"question\"], example[\"now\"]))"
   ]
  },
  {
   "cell_type": "code",
   "execution_count": null,
   "id": "95a6c734",
   "metadata": {},
   "outputs": [],
   "source": [
    "for i in range(len(examples)):\n",
    "    examples[i][\"start\"] = predicts[i][\"start\"]\n",
    "    examples[i][\"end\"] = predicts[i][\"end\"]\n",
    "    \n",
    "do_write = False\n",
    "if do_write:\n",
    "    with open(\"time_bench.json\",\"w\") as f:\n",
    "        json.dump(examples, f, indent=4)"
   ]
  },
  {
   "cell_type": "markdown",
   "id": "fdbc2c13",
   "metadata": {},
   "source": [
    "## manually update the golden label"
   ]
  },
  {
   "cell_type": "code",
   "execution_count": null,
   "id": "7ecb381d",
   "metadata": {},
   "outputs": [],
   "source": []
  }
 ],
 "metadata": {
  "kernelspec": {
   "display_name": "base",
   "language": "python",
   "name": "python3"
  },
  "language_info": {
   "codemirror_mode": {
    "name": "ipython",
    "version": 3
   },
   "file_extension": ".py",
   "mimetype": "text/x-python",
   "name": "python",
   "nbconvert_exporter": "python",
   "pygments_lexer": "ipython3",
   "version": "3.10.9"
  }
 },
 "nbformat": 4,
 "nbformat_minor": 5
}
